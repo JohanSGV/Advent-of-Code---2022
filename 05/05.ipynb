{
 "cells": [
  {
   "cell_type": "markdown",
   "id": "e34e553d",
   "metadata": {},
   "source": [
    "# 05"
   ]
  },
  {
   "cell_type": "code",
   "execution_count": 1,
   "id": "756ddd07",
   "metadata": {},
   "outputs": [],
   "source": [
    "import re\n",
    "from copy import deepcopy"
   ]
  },
  {
   "cell_type": "code",
   "execution_count": 2,
   "id": "4304d366",
   "metadata": {},
   "outputs": [],
   "source": [
    "with open('input', 'r') as input:\n",
    "    \n",
    "    # Reading initial distribution:\n",
    "    lines = input.readlines()\n",
    "    stacks = int( len(lines[0]) / 4 )\n",
    "    dist = [[] for i in range(stacks)]\n",
    "    line = 0\n",
    "    while not lines[line][1].isdigit():\n",
    "        for i in range(stacks):\n",
    "            if (lines[line][1 + 4*i] != ' '):\n",
    "                dist[i].append(lines[line][1 + 4*i])\n",
    "        line += 1\n",
    "\n",
    "    line += 2 # Some blank lines\n",
    "    \n",
    "    # Reversing the order of the elements so that they are on a stack:\n",
    "    for i in range(stacks):\n",
    "        dist[i].reverse()\n",
    "    \n",
    "    # Keeping the distribution for Part Two \n",
    "    dist_backup = deepcopy(dist)\n",
    "    line_backup = line"
   ]
  },
  {
   "cell_type": "markdown",
   "id": "22f9c9af",
   "metadata": {},
   "source": [
    "## Part One"
   ]
  },
  {
   "cell_type": "code",
   "execution_count": 3,
   "id": "81f95e21",
   "metadata": {},
   "outputs": [
    {
     "name": "stdout",
     "output_type": "stream",
     "text": [
      "FZCMJCRHZ\n"
     ]
    }
   ],
   "source": [
    "    while line < len(lines):\n",
    "        move = re.split(\"[ a-z'\\n']+\", lines[line])\n",
    "\n",
    "        for i in range( int(move[1]) ) :\n",
    "            # For instruction 'move i from j to k': last element of stack j is moved to k i times:\n",
    "            dist[ int(move[3]) - 1 ].append( dist[ int( move[2] ) - 1 ].pop() )\n",
    "\n",
    "        line += 1\n",
    "    \n",
    "    # Concatenation of the last element of each stack:\n",
    "    result = ''\n",
    "    for i in range(stacks):\n",
    "        result += dist[i][-1]\n",
    "        \n",
    "    print(result)"
   ]
  },
  {
   "cell_type": "markdown",
   "id": "8f98b20a",
   "metadata": {},
   "source": [
    "Sample of the format of the program:"
   ]
  },
  {
   "cell_type": "code",
   "execution_count": 4,
   "id": "047fae10",
   "metadata": {},
   "outputs": [
    {
     "data": {
      "text/plain": [
       "['', '7', '9', '4']"
      ]
     },
     "execution_count": 4,
     "metadata": {},
     "output_type": "execute_result"
    }
   ],
   "source": [
    "re.split(\"[ a-z'\\n']+\", 'move 7 from 9 to 4')"
   ]
  },
  {
   "cell_type": "markdown",
   "id": "edd5e77e",
   "metadata": {},
   "source": [
    "## Part Two"
   ]
  },
  {
   "cell_type": "code",
   "execution_count": 5,
   "id": "8829bc16",
   "metadata": {},
   "outputs": [],
   "source": [
    "dist = dist_backup\n",
    "line = line_backup"
   ]
  },
  {
   "cell_type": "code",
   "execution_count": 6,
   "id": "cb3edaef",
   "metadata": {},
   "outputs": [
    {
     "name": "stdout",
     "output_type": "stream",
     "text": [
      "JSDHQMZGF\n"
     ]
    }
   ],
   "source": [
    "    while line < len(lines):\n",
    "        move = re.split(\"[ a-z'\\n']+\", lines[line])\n",
    "\n",
    "        for i in range( int(move[1]) ) :\n",
    "            dist[ int(move[3]) - 1 ].append( dist[ int( move[2] ) - 1 ].pop( -(int(move[1]) - i ) ) )\n",
    "\n",
    "        line += 1\n",
    "    \n",
    "    result = ''\n",
    "    for i in range(stacks):\n",
    "        result += dist[i][-1]\n",
    "        \n",
    "    print(result)"
   ]
  }
 ],
 "metadata": {
  "kernelspec": {
   "display_name": "Python 3 (ipykernel)",
   "language": "python",
   "name": "python3"
  },
  "language_info": {
   "codemirror_mode": {
    "name": "ipython",
    "version": 3
   },
   "file_extension": ".py",
   "mimetype": "text/x-python",
   "name": "python",
   "nbconvert_exporter": "python",
   "pygments_lexer": "ipython3",
   "version": "3.10.8"
  }
 },
 "nbformat": 4,
 "nbformat_minor": 5
}
