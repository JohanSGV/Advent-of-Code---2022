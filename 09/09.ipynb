{
 "cells": [
  {
   "cell_type": "markdown",
   "id": "0c9d9787",
   "metadata": {},
   "source": [
    "# 09"
   ]
  },
  {
   "cell_type": "code",
   "execution_count": 1,
   "id": "1d09706b",
   "metadata": {},
   "outputs": [],
   "source": [
    "import numpy as np"
   ]
  },
  {
   "cell_type": "code",
   "execution_count": 2,
   "id": "60c7dc3d",
   "metadata": {},
   "outputs": [],
   "source": [
    "# It moves the head as instructed.\n",
    "def h_move(h_pos, direction):\n",
    "    x, y = h_pos\n",
    "    if direction == 'R':\n",
    "        return (x, y+1)\n",
    "    elif direction == 'L':\n",
    "        return (x, y-1)\n",
    "    elif direction == 'U':\n",
    "        return (x+1, y)\n",
    "    elif direction == 'D':\n",
    "        return (x-1, y)\n",
    "\n",
    "# It determines whether two positions are adjacent\n",
    "def adjacent(h_pos, t_pos):\n",
    "    v_diff = np.array(h_pos) - np.array(t_pos)\n",
    "    if abs(v_diff[0]) > 1 or abs(v_diff[1]) > 1:\n",
    "        return False\n",
    "    else:\n",
    "        return True\n",
    "    \n",
    "# It returns the position of section of the tail adjacent to the head after the head takes one step.\n",
    "def t_move(h_pos, t_pos):   \n",
    "    x, y = t_pos\n",
    "    if not adjacent(h_pos, t_pos):\n",
    "        v_diff = np.array(h_pos) - np.array(t_pos)\n",
    "        if v_diff[0] == 0:\n",
    "            return x, y+(v_diff[1]//2)\n",
    "        elif v_diff[1] == 0:\n",
    "            return x+(v_diff[0]//2), y\n",
    "        elif abs(v_diff[0]) == 1:\n",
    "            return x+v_diff[0], y+(v_diff[1]//2)\n",
    "        elif abs(v_diff[1]) == 1:\n",
    "            return x+(v_diff[0]//2), y+v_diff[1]\n",
    "    else:\n",
    "        return t_pos\n",
    "\n",
    "# It returns the position of the i+1 section of the tail after the section i has made one step.\n",
    "# With respect to t_move(), now the section i could 2 blocks away from the section i in both directions.\n",
    "def t_move_tail(h_pos, t_pos):   \n",
    "    x, y = t_pos\n",
    "    if not adjacent(h_pos, t_pos):\n",
    "        v_diff = np.array(h_pos) - np.array(t_pos)\n",
    "        if v_diff[0] == 0:\n",
    "            return x, y+(v_diff[1]//2)\n",
    "        elif v_diff[1] == 0:\n",
    "            return x+(v_diff[0]//2), y\n",
    "        elif abs(v_diff[0]) == 1:\n",
    "            return x+v_diff[0], y+(v_diff[1]//2)\n",
    "        elif abs(v_diff[1]) == 1:\n",
    "            return x+(v_diff[0]//2), y+v_diff[1]\n",
    "        else:\n",
    "            return x+(v_diff[0]//2), y+(v_diff[1]//2)\n",
    "    else:\n",
    "        return t_pos"
   ]
  },
  {
   "cell_type": "markdown",
   "id": "aaa712a6",
   "metadata": {},
   "source": [
    "## Part One"
   ]
  },
  {
   "cell_type": "code",
   "execution_count": 3,
   "id": "7289fd6d",
   "metadata": {},
   "outputs": [
    {
     "name": "stdout",
     "output_type": "stream",
     "text": [
      "6337\n"
     ]
    }
   ],
   "source": [
    "with open('input') as input:\n",
    "    s_pos = (0,0)\n",
    "    h_pos = s_pos\n",
    "    t_pos = s_pos\n",
    "    stepped_pos = [s_pos]\n",
    "    for line in input:\n",
    "        direction, moves = line[:-1].split(' ')\n",
    "        for i in range(int(moves)):\n",
    "            h_pos = h_move(h_pos, direction)\n",
    "            t_pos = t_move(h_pos, t_pos)\n",
    "            if t_pos not in stepped_pos:\n",
    "                stepped_pos.append(t_pos)\n",
    "\n",
    "print(len(stepped_pos))"
   ]
  },
  {
   "cell_type": "markdown",
   "id": "cfc129b7",
   "metadata": {},
   "source": [
    "## Part Two"
   ]
  },
  {
   "cell_type": "code",
   "execution_count": 4,
   "id": "7b0a3242",
   "metadata": {},
   "outputs": [],
   "source": [
    "with open('input') as input:\n",
    "    s_pos = (0,0)\n",
    "    h_pos = s_pos\n",
    "    knots = 10\n",
    "    t_pos = [s_pos for i in range(knots-1)]\n",
    "    stepped_pos = [s_pos]\n",
    "    for line in input:\n",
    "        direction, moves = line[:-1].split(' ')\n",
    "        for i in range(int(moves)):\n",
    "            # First knot moves with head\n",
    "            h_pos = h_move(h_pos, direction)\n",
    "            t_pos[0] = t_move(h_pos, t_pos[0])         \n",
    "            for j in range(knots-2):\n",
    "                t_pos[j+1] = t_move_tail( t_pos[j], t_pos[j+1] )\n",
    "            if t_pos[8] not in stepped_pos:\n",
    "                stepped_pos.append(t_pos[8])"
   ]
  },
  {
   "cell_type": "code",
   "execution_count": 5,
   "id": "d39b412d",
   "metadata": {},
   "outputs": [
    {
     "name": "stdout",
     "output_type": "stream",
     "text": [
      "2455\n"
     ]
    }
   ],
   "source": [
    "print(len(stepped_pos))"
   ]
  }
 ],
 "metadata": {
  "kernelspec": {
   "display_name": "Python 3 (ipykernel)",
   "language": "python",
   "name": "python3"
  },
  "language_info": {
   "codemirror_mode": {
    "name": "ipython",
    "version": 3
   },
   "file_extension": ".py",
   "mimetype": "text/x-python",
   "name": "python",
   "nbconvert_exporter": "python",
   "pygments_lexer": "ipython3",
   "version": "3.10.8"
  }
 },
 "nbformat": 4,
 "nbformat_minor": 5
}
