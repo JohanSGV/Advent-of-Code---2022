{
 "cells": [
  {
   "cell_type": "markdown",
   "id": "804b3cc3",
   "metadata": {},
   "source": [
    "# 06"
   ]
  },
  {
   "cell_type": "code",
   "execution_count": 57,
   "id": "8bc31afd",
   "metadata": {},
   "outputs": [],
   "source": [
    "def n_diff_char(text, n, show = False):\n",
    "    \n",
    "    \"\"\" It returns the ending position of the first subarray of length n with distinct characters, or -1 if not found. \"\"\"\n",
    "    \n",
    "    queue = []\n",
    "    i = 0\n",
    "    while (len(queue) < n) and (i < len(text)):\n",
    "        c = text[i]\n",
    "        if show:\n",
    "            print('Character read: ', c)\n",
    "            print('Current queue:  ', queue)\n",
    "        if c not in queue:\n",
    "            queue.append(c)\n",
    "        else:\n",
    "            queue.append(c)\n",
    "            q = 0\n",
    "            while q == 0:\n",
    "                if queue.pop(0) == c:\n",
    "                    q = 1\n",
    "                \n",
    "        i += 1\n",
    "    if i == len(text):\n",
    "        return -1\n",
    "    else:\n",
    "        return i"
   ]
  },
  {
   "cell_type": "markdown",
   "id": "61dd8ec3",
   "metadata": {},
   "source": [
    "## Function mechanism"
   ]
  },
  {
   "cell_type": "code",
   "execution_count": 58,
   "id": "dbb7f399",
   "metadata": {},
   "outputs": [
    {
     "name": "stdout",
     "output_type": "stream",
     "text": [
      "Character read:  n\n",
      "Current queue:   []\n",
      "Character read:  z\n",
      "Current queue:   ['n']\n",
      "Character read:  n\n",
      "Current queue:   ['n', 'z']\n",
      "Character read:  r\n",
      "Current queue:   ['z', 'n']\n",
      "Character read:  n\n",
      "Current queue:   ['z', 'n', 'r']\n",
      "Character read:  f\n",
      "Current queue:   ['r', 'n']\n",
      "Character read:  r\n",
      "Current queue:   ['r', 'n', 'f']\n",
      "Character read:  f\n",
      "Current queue:   ['n', 'f', 'r']\n",
      "Character read:  n\n",
      "Current queue:   ['r', 'f']\n",
      "Character read:  t\n",
      "Current queue:   ['r', 'f', 'n']\n"
     ]
    },
    {
     "data": {
      "text/plain": [
       "10"
      ]
     },
     "execution_count": 58,
     "metadata": {},
     "output_type": "execute_result"
    }
   ],
   "source": [
    "text = 'nznrnfrfntjfmvfwmzdfjlvtqnbhcprsg'\n",
    "n_diff_char(text, 4, show = True)"
   ]
  },
  {
   "cell_type": "markdown",
   "id": "b5c8a990",
   "metadata": {},
   "source": [
    "A queue is constructed. Elements in the input are read and put on top of the queue. If such element is already in the queue, the bottom of the queue is *popped*, or removed, until the repeted element is deleted."
   ]
  },
  {
   "cell_type": "markdown",
   "id": "ed719e91",
   "metadata": {},
   "source": [
    "## Part One"
   ]
  },
  {
   "cell_type": "code",
   "execution_count": 53,
   "id": "97e19fe3",
   "metadata": {},
   "outputs": [
    {
     "name": "stdout",
     "output_type": "stream",
     "text": [
      "1640\n"
     ]
    }
   ],
   "source": [
    "with open('input', 'r') as input:\n",
    "    text = input.readlines()[0]\n",
    "    \n",
    "    print(n_diff_char(text, 4))"
   ]
  },
  {
   "cell_type": "markdown",
   "id": "0206926a",
   "metadata": {},
   "source": [
    "## Part Two"
   ]
  },
  {
   "cell_type": "code",
   "execution_count": 54,
   "id": "18f95670",
   "metadata": {},
   "outputs": [
    {
     "name": "stdout",
     "output_type": "stream",
     "text": [
      "3613\n"
     ]
    }
   ],
   "source": [
    "with open('input', 'r') as input:\n",
    "    text = input.readlines()[0]\n",
    "    \n",
    "    print(n_diff_char(text, 14))"
   ]
  }
 ],
 "metadata": {
  "kernelspec": {
   "display_name": "Python 3 (ipykernel)",
   "language": "python",
   "name": "python3"
  },
  "language_info": {
   "codemirror_mode": {
    "name": "ipython",
    "version": 3
   },
   "file_extension": ".py",
   "mimetype": "text/x-python",
   "name": "python",
   "nbconvert_exporter": "python",
   "pygments_lexer": "ipython3",
   "version": "3.10.8"
  }
 },
 "nbformat": 4,
 "nbformat_minor": 5
}
