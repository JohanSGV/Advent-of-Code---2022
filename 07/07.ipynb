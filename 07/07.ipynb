{
 "cells": [
  {
   "cell_type": "markdown",
   "id": "86348dfe",
   "metadata": {},
   "source": [
    "# 07"
   ]
  },
  {
   "cell_type": "code",
   "execution_count": 1,
   "id": "9def5ac0",
   "metadata": {},
   "outputs": [],
   "source": [
    "import numpy as np"
   ]
  },
  {
   "cell_type": "code",
   "execution_count": 2,
   "id": "35f73770",
   "metadata": {},
   "outputs": [],
   "source": [
    "class Folder:\n",
    "  def __init__(self, name, parent):\n",
    "    self.folders = []\n",
    "    self.files = []\n",
    "    self.name = name\n",
    "    self.parent = parent\n",
    "\n",
    "  def add_folder(self, folder):\n",
    "    self.folders.append(folder)\n",
    "\n",
    "  def add_file(self, file):\n",
    "    self.files.append(file)\n",
    "\n",
    "  def get_size(self):\n",
    "    size_sum = 0\n",
    "    size_sum += sum([f.get_size() for f in self.files])\n",
    "    size_sum += sum([f.get_size() for f in self.folders])\n",
    "    return size_sum    \n",
    "\n",
    "  def get_parent(self):\n",
    "    return self.parent\n",
    "\n",
    "  def get_name(self):\n",
    "    return self.name\n",
    "\n",
    "  def get_folders(self):\n",
    "    return self.folders\n",
    "\n",
    "  def get_files(self):\n",
    "    return self.files\n",
    "\n",
    "class File:\n",
    "  def __init__(self, name, size):\n",
    "    self.name = name\n",
    "    self.size = int(size)\n",
    "\n",
    "  def get_size(self):\n",
    "    return self.size\n",
    "\n",
    "  def get_name(self):\n",
    "    return self.name\n",
    "\n",
    "def fs(folder, size_sums):\n",
    "  size_sums.append(folder.get_size())\n",
    "  for f in folder.get_folders():\n",
    "    fs(f, size_sums)"
   ]
  },
  {
   "cell_type": "markdown",
   "id": "3baf1188",
   "metadata": {},
   "source": [
    "## Part One"
   ]
  },
  {
   "cell_type": "code",
   "execution_count": 3,
   "id": "8df832b2",
   "metadata": {},
   "outputs": [
    {
     "name": "stdout",
     "output_type": "stream",
     "text": [
      "1792222\n"
     ]
    }
   ],
   "source": [
    "root = Folder(\"/\", None)\n",
    "current_folder = root\n",
    "\n",
    "with open(\"input\") as input:\n",
    "  for line in input:\n",
    "    command = line[:-1].split(\" \")\n",
    "    if command[0] == \"$\":\n",
    "      if command[1] == \"cd\":\n",
    "        if command[2] == \"/\":\n",
    "          current_folder = root\n",
    "        elif command[2] == \"..\":\n",
    "          current_folder = current_folder.get_parent()\n",
    "        else:\n",
    "          if command[2] not in [f.get_name() for f in current_folder.get_folders()]:\n",
    "            new_folder = Folder(command[2], current_folder)\n",
    "            current_folder.add_folder(new_folder)\n",
    "            current_folder = new_folder\n",
    "          else:\n",
    "            for f in current_folder.get_folders():\n",
    "              if command[2] == f.get_name():\n",
    "                current_folder = f\n",
    "              \n",
    "      elif command[1] == \"ls\":\n",
    "        pass\n",
    "    elif command[0] == \"dir\":\n",
    "      if command[1] not in [f.get_name() for f in current_folder.get_folders()]:\n",
    "        new_folder = Folder(command[1], current_folder)\n",
    "        current_folder.add_folder(new_folder)\n",
    "    else:\n",
    "      if command[1] not in [f.get_name() for f in current_folder.get_files()]:\n",
    "        current_folder.add_file(File(command[1], command[0]))\n",
    "\n",
    "size_sums = []\n",
    "fs(root, size_sums)\n",
    "\n",
    "size_sums = np.array(size_sums)\n",
    "print(sum(size_sums[size_sums <= 100_000]))"
   ]
  },
  {
   "cell_type": "markdown",
   "id": "101ab488",
   "metadata": {},
   "source": [
    "## Part Two"
   ]
  },
  {
   "cell_type": "code",
   "execution_count": 4,
   "id": "9720449c",
   "metadata": {},
   "outputs": [
    {
     "name": "stdout",
     "output_type": "stream",
     "text": [
      "1112963\n"
     ]
    }
   ],
   "source": [
    "root_size = root.get_size()\n",
    "available_space = 70_000_000 - root_size\n",
    "needed_space = 30_000_000 - available_space\n",
    "\n",
    "print(min(size_sums[size_sums > needed_space]))"
   ]
  }
 ],
 "metadata": {
  "kernelspec": {
   "display_name": "Python 3 (ipykernel)",
   "language": "python",
   "name": "python3"
  },
  "language_info": {
   "codemirror_mode": {
    "name": "ipython",
    "version": 3
   },
   "file_extension": ".py",
   "mimetype": "text/x-python",
   "name": "python",
   "nbconvert_exporter": "python",
   "pygments_lexer": "ipython3",
   "version": "3.10.8"
  }
 },
 "nbformat": 4,
 "nbformat_minor": 5
}
