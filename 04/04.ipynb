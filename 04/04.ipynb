{
 "cells": [
  {
   "cell_type": "markdown",
   "id": "65bfb82a",
   "metadata": {},
   "source": [
    "# 04"
   ]
  },
  {
   "cell_type": "markdown",
   "id": "f5a1f291",
   "metadata": {},
   "source": [
    "## Part One"
   ]
  },
  {
   "cell_type": "code",
   "execution_count": 13,
   "id": "d0977869",
   "metadata": {},
   "outputs": [],
   "source": [
    "import re\n",
    "import numpy as np"
   ]
  },
  {
   "cell_type": "code",
   "execution_count": 60,
   "id": "f2fbf342",
   "metadata": {},
   "outputs": [
    {
     "name": "stdout",
     "output_type": "stream",
     "text": [
      "496\n"
     ]
    }
   ],
   "source": [
    "with open('input', 'r') as input:\n",
    "    inclusions = 0\n",
    "    for line in input:\n",
    "        ranges = np.array(re.split(\"\\W+\", line)[:-1], int)\n",
    "        if (ranges[0] <= ranges[2] and ranges[1] >= ranges[3]) or (ranges[0] >= ranges[2] and ranges[1] <= ranges[3]):\n",
    "            inclusions += 1\n",
    "            \n",
    "print(inclusions)"
   ]
  },
  {
   "cell_type": "markdown",
   "id": "cb20710a",
   "metadata": {},
   "source": [
    "## Part Two"
   ]
  },
  {
   "cell_type": "code",
   "execution_count": 61,
   "id": "9cda5dd2",
   "metadata": {},
   "outputs": [
    {
     "name": "stdout",
     "output_type": "stream",
     "text": [
      "847\n"
     ]
    }
   ],
   "source": [
    "with open('input', 'r') as input:\n",
    "    inclusions = 0\n",
    "    for line in input:\n",
    "        ranges = np.array(re.split(\"\\W+\", line)[:-1], int)\n",
    "        if (ranges[0] <= ranges[2] and ranges[1] >= ranges[2]) or (ranges[0] >= ranges[2] and ranges[0] <= ranges[3]):\n",
    "            inclusions += 1\n",
    "            \n",
    "print(inclusions)"
   ]
  },
  {
   "cell_type": "code",
   "execution_count": null,
   "id": "39f81473",
   "metadata": {},
   "outputs": [],
   "source": []
  }
 ],
 "metadata": {
  "kernelspec": {
   "display_name": "Python 3 (ipykernel)",
   "language": "python",
   "name": "python3"
  },
  "language_info": {
   "codemirror_mode": {
    "name": "ipython",
    "version": 3
   },
   "file_extension": ".py",
   "mimetype": "text/x-python",
   "name": "python",
   "nbconvert_exporter": "python",
   "pygments_lexer": "ipython3",
   "version": "3.10.8"
  }
 },
 "nbformat": 4,
 "nbformat_minor": 5
}
