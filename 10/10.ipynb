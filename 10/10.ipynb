{
 "cells": [
  {
   "cell_type": "markdown",
   "id": "16f03ace",
   "metadata": {},
   "source": [
    "# 10"
   ]
  },
  {
   "cell_type": "code",
   "execution_count": 1,
   "id": "3e6bf715",
   "metadata": {},
   "outputs": [],
   "source": [
    "def addx(value_inst, count, cycles):\n",
    "    \"\"\" \n",
    "    It counts cycles in the count variable. It adds one to the count. \n",
    "    When this count equals the variable cycles, it returns the value to be added according to the instructions. It instructs to read a new instruction.\n",
    "    When this count does note qual the variable cycles, it returns 0 (it does nothing). It instructs to keep the same instruction.\n",
    "    \"\"\"\n",
    "    count += 1\n",
    "    if count == cycles:\n",
    "        return value_inst, count, True\n",
    "    else:\n",
    "        return 0, count, False\n",
    "\n",
    "def drawing(cycle, value, CRT):\n",
    "    \"\"\"\n",
    "    value shows the position of the sprite (value+0,1,2 mod 40). \n",
    "    It prints on the cycle-th position of the CRT if there is an intersection of this position with the sprite.\n",
    "    Otherwise, it prints a dark pixel.\n",
    "    \"\"\"\n",
    "    cycle = cycle % 40\n",
    "    if cycle in [value-1+i for i in range(3)]:\n",
    "        CRT.append('#')\n",
    "    else:\n",
    "        CRT.append('.')"
   ]
  },
  {
   "cell_type": "markdown",
   "id": "ee56bad0",
   "metadata": {},
   "source": [
    "## Part One"
   ]
  },
  {
   "cell_type": "code",
   "execution_count": 2,
   "id": "de5166a1",
   "metadata": {},
   "outputs": [],
   "source": [
    "with open('input') as input:\n",
    "    \n",
    "    signal_str = []\n",
    "    \n",
    "    lines = input.readlines()\n",
    "    n_inst = len(lines)\n",
    "    \n",
    "    new_inst = True\n",
    "    i = -1\n",
    "    cycle = 0\n",
    "    value = 1\n",
    "    \n",
    "    while i < n_inst:\n",
    "        if new_inst == True:\n",
    "            inst = lines[i][:-1].split(\" \")\n",
    "            count = 0\n",
    "            i += 1\n",
    "        if inst[0] == 'addx':\n",
    "            add, count, new_inst = addx(int(inst[1]), count, 2)\n",
    "            value += add\n",
    "        elif inst[0] == 'noop':\n",
    "            new_inst = True\n",
    "        cycle += 1\n",
    "        if ((cycle+20)%40) == 0:\n",
    "            signal_str.append(value*cycle)                "
   ]
  },
  {
   "cell_type": "code",
   "execution_count": 3,
   "id": "9f642fba",
   "metadata": {},
   "outputs": [
    {
     "name": "stdout",
     "output_type": "stream",
     "text": [
      "12880\n"
     ]
    }
   ],
   "source": [
    "print(sum(signal_str[0:6]))"
   ]
  },
  {
   "cell_type": "markdown",
   "id": "df1b6a3f",
   "metadata": {},
   "source": [
    "## Part Two"
   ]
  },
  {
   "cell_type": "code",
   "execution_count": 4,
   "id": "4bb560d8",
   "metadata": {},
   "outputs": [],
   "source": [
    "CRT = []"
   ]
  },
  {
   "cell_type": "code",
   "execution_count": 5,
   "id": "57b8b8f8",
   "metadata": {},
   "outputs": [],
   "source": [
    "with open('input') as input:\n",
    "    \n",
    "    signal_str = []\n",
    "    \n",
    "    lines = input.readlines()\n",
    "    n_inst = len(lines)\n",
    "    new_inst = True\n",
    "    \n",
    "    i = -1\n",
    "    cycle = 0\n",
    "    value = 1\n",
    "    \n",
    "    while i < n_inst:\n",
    "        if new_inst == True:\n",
    "            inst = lines[i][:-1].split(\" \")\n",
    "            count = 0\n",
    "            i += 1\n",
    "        if inst[0] == 'addx':\n",
    "            add, count, new_inst = addx(int(inst[1]), count, 2)\n",
    "            value += add\n",
    "        elif inst[0] == 'noop':\n",
    "            new_inst = True\n",
    "        drawing(cycle, value, CRT)\n",
    "        cycle += 1"
   ]
  },
  {
   "cell_type": "code",
   "execution_count": 6,
   "id": "c9596ee9",
   "metadata": {},
   "outputs": [],
   "source": [
    "CRT = [[CRT[i*40+j] for j in range(40)] for i in range(6)]"
   ]
  },
  {
   "cell_type": "code",
   "execution_count": 7,
   "id": "840a8678",
   "metadata": {},
   "outputs": [],
   "source": [
    "with open('output', 'w') as output:\n",
    "    for row in CRT:\n",
    "        for pix in row:\n",
    "            output.write(pix)\n",
    "        output.write('\\n')       "
   ]
  }
 ],
 "metadata": {
  "kernelspec": {
   "display_name": "Python 3 (ipykernel)",
   "language": "python",
   "name": "python3"
  },
  "language_info": {
   "codemirror_mode": {
    "name": "ipython",
    "version": 3
   },
   "file_extension": ".py",
   "mimetype": "text/x-python",
   "name": "python",
   "nbconvert_exporter": "python",
   "pygments_lexer": "ipython3",
   "version": "3.10.8"
  }
 },
 "nbformat": 4,
 "nbformat_minor": 5
}
