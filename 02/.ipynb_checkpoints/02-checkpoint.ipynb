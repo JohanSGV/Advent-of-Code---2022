{
 "cells": [
  {
   "cell_type": "markdown",
   "id": "00a5933c",
   "metadata": {},
   "source": [
    "# 02"
   ]
  },
  {
   "cell_type": "markdown",
   "id": "390bbc0c",
   "metadata": {},
   "source": [
    "## Part One"
   ]
  },
  {
   "cell_type": "code",
   "execution_count": 21,
   "id": "0b8c7767",
   "metadata": {
    "scrolled": true
   },
   "outputs": [],
   "source": [
    "import numpy as np"
   ]
  },
  {
   "cell_type": "code",
   "execution_count": 91,
   "id": "55bae7b2",
   "metadata": {},
   "outputs": [
    {
     "name": "stdout",
     "output_type": "stream",
     "text": [
      "The number of points obtained with this strategy is 12679\n"
     ]
    }
   ],
   "source": [
    "with open(\"input\", \"r\") as input:\n",
    "    # Defining of the variables of the problem.\n",
    "    \"\"\"Competitor A, and B play is recorded. Competitor A is the adversary.\"\"\"\n",
    "    names_A = ['A', 'B', 'C']\n",
    "    names_B = ['X', 'Y', 'Z']\n",
    "    points_play = [1, 2, 3]\n",
    "    comp_A = []\n",
    "    comp_B = []\n",
    "    # Reading the file\n",
    "    for line in input:\n",
    "        comp_A.append(line[0])\n",
    "        comp_B.append(line[2])\n",
    "    comp_A = np.array(comp_A)\n",
    "    comp_B = np.array(comp_B)\n",
    "    # Transforming the file into numbers.\n",
    "    for i in points_play:\n",
    "        comp_A[comp_A == names_A[i-1]] = i\n",
    "        comp_B[comp_B == names_B[i-1]] = i\n",
    "    # Adding the points depending on the play.\n",
    "    points = np.sum(comp_B, dtype=np.int32)\n",
    "    # Adding the points depending on the game result: matrix is explained on the next cell \n",
    "    # (notice we use in fact the transpose matrix).\n",
    "    matrixAB= [[3, 0, 6], [6, 3, 0], [0, 6, 3]]\n",
    "    for (i, j) in zip(comp_A, comp_B):\n",
    "        points += matrixAB[int(j)-1][int(i)-1]\n",
    "    print(\"The number of points obtained with this strategy (1) is\", points)"
   ]
  },
  {
   "cell_type": "markdown",
   "id": "95b93816",
   "metadata": {},
   "source": [
    "The table shows the number of points obtained in the case A (adversary) and B (me) make a given move.\n",
    "\n",
    "| A / B        | Rock (1) | Paper (2) | Scissors (3) |\n",
    "|--------------|----------|-----------|--------------|\n",
    "| Rock (1)     | 3        | 0         | 6            |\n",
    "| Paper (2)    | 6        | 3         | 0            |\n",
    "| Scissors (3) | 0        | 6         | 3            |\n"
   ]
  },
  {
   "cell_type": "markdown",
   "id": "b6df47a8",
   "metadata": {},
   "source": [
    "## Part Two"
   ]
  },
  {
   "cell_type": "code",
   "execution_count": 92,
   "id": "86cf1192",
   "metadata": {
    "scrolled": true
   },
   "outputs": [
    {
     "name": "stdout",
     "output_type": "stream",
     "text": [
      "The number of points obtained with this strategy (2) is 14470\n"
     ]
    }
   ],
   "source": [
    "points = 0\n",
    "# Points obtained based on the result of the game are now added easily. \n",
    "# Points based on the move played are computed via the matrix on the next cell.\n",
    "matrixAR = [[3,1,2],[1,2,3],[2,3,1]]\n",
    "for (i, j) in zip(comp_A, comp_B):\n",
    "    points += 3*(int(j)-1)\n",
    "    points += matrix2[int(i)-1][int(j)-1]\n",
    "print(\"The number of points obtained with this strategy (2) is\", points)"
   ]
  },
  {
   "cell_type": "markdown",
   "id": "0f64d46d",
   "metadata": {},
   "source": [
    "The table shows the number of points obtained in the case A (adversary) makes a given move, and for a given result obtained for a game.\n",
    "\n",
    "| **A / Result**   | Lose (1)     | Tie (2)      | Win (1)    |\n",
    "|------------------|--------------|--------------|------------|\n",
    "| **Rock (1)**     | Scissors (3) | Rock (1)     | Paper (2)  |\n",
    "| **Paper (2)**    | Rock (1)     | Paper (2)    | Scissors (3)|\n",
    "| **Scissors (3)** | Paper (2)    | Scissors (3) | Rock (1)   |\n",
    "|                  |              |              |            |"
   ]
  }
 ],
 "metadata": {
  "kernelspec": {
   "display_name": "Python 3 (ipykernel)",
   "language": "python",
   "name": "python3"
  },
  "language_info": {
   "codemirror_mode": {
    "name": "ipython",
    "version": 3
   },
   "file_extension": ".py",
   "mimetype": "text/x-python",
   "name": "python",
   "nbconvert_exporter": "python",
   "pygments_lexer": "ipython3",
   "version": "3.10.6"
  }
 },
 "nbformat": 4,
 "nbformat_minor": 5
}
