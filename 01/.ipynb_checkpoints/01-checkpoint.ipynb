{
 "cells": [
  {
   "cell_type": "markdown",
   "id": "7627c721",
   "metadata": {},
   "source": [
    "# 01"
   ]
  },
  {
   "cell_type": "markdown",
   "id": "d3e19cf3",
   "metadata": {},
   "source": [
    "## Part One"
   ]
  },
  {
   "cell_type": "code",
   "execution_count": 6,
   "id": "9581d972",
   "metadata": {},
   "outputs": [
    {
     "name": "stdout",
     "output_type": "stream",
     "text": [
      "205 is the elf carrying the most calories with 69206\n"
     ]
    }
   ],
   "source": [
    "with open('input', 'r') as input:\n",
    "    sum_elf = 0\n",
    "    max_elf = 0\n",
    "    elf = 1\n",
    "    for line in input:\n",
    "        if line != '\\n':\n",
    "            sum_elf += int(line)\n",
    "        else:\n",
    "            if sum_elf > max_elf:\n",
    "                max_elf = sum_elf\n",
    "                elf_max_elf = elf\n",
    "            sum_elf = 0\n",
    "            elf += 1\n",
    "                \n",
    "print (elf_max_elf, \"is the elf carrying the most calories with\", max_elf)"
   ]
  },
  {
   "cell_type": "markdown",
   "id": "1583c99a",
   "metadata": {},
   "source": [
    "## Part Two"
   ]
  },
  {
   "cell_type": "code",
   "execution_count": 29,
   "id": "7e5f96a4",
   "metadata": {},
   "outputs": [
    {
     "name": "stdout",
     "output_type": "stream",
     "text": [
      "The top calorie sums are:\n",
      " [62877, 65317, 69206]\n",
      "Their sum is:\n",
      " 197400\n"
     ]
    }
   ],
   "source": [
    "top = 3\n",
    "\n",
    "with open('input', 'r') as input:\n",
    "    sum_elf = 0\n",
    "    max_elf = [0 for i in range(0, top)]\n",
    "    for line in input:\n",
    "        if line != '\\n':\n",
    "            sum_elf += int(line)\n",
    "        else:\n",
    "            if sum_elf > max_elf[0]:\n",
    "                max_elf[0] = sum_elf\n",
    "                max_elf.sort()\n",
    "            sum_elf = 0\n",
    "\n",
    "print (\"The top calorie sums are:\\n\", max_elf)\n",
    "print (\"Their sum is:\\n\", sum(max_elf))"
   ]
  }
 ],
 "metadata": {
  "kernelspec": {
   "display_name": "Python 3 (ipykernel)",
   "language": "python",
   "name": "python3"
  },
  "language_info": {
   "codemirror_mode": {
    "name": "ipython",
    "version": 3
   },
   "file_extension": ".py",
   "mimetype": "text/x-python",
   "name": "python",
   "nbconvert_exporter": "python",
   "pygments_lexer": "ipython3",
   "version": "3.10.8"
  }
 },
 "nbformat": 4,
 "nbformat_minor": 5
}
