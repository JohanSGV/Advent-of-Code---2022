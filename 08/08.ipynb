{
 "cells": [
  {
   "cell_type": "markdown",
   "id": "d88385d1",
   "metadata": {},
   "source": [
    "# 08"
   ]
  },
  {
   "cell_type": "code",
   "execution_count": 1,
   "id": "4ce616af",
   "metadata": {},
   "outputs": [],
   "source": [
    "import numpy as np"
   ]
  },
  {
   "cell_type": "code",
   "execution_count": 2,
   "id": "e2bfb034",
   "metadata": {},
   "outputs": [],
   "source": [
    "with open('input') as input:\n",
    "    forest = [[i for i in line[:-1]] for line in input]\n",
    "    \n",
    "forest = np.array(forest)"
   ]
  },
  {
   "cell_type": "code",
   "execution_count": 3,
   "id": "4c751e63",
   "metadata": {},
   "outputs": [],
   "source": [
    "width = len(forest[0])\n",
    "length = len(forest)"
   ]
  },
  {
   "cell_type": "markdown",
   "id": "d19b9bae",
   "metadata": {},
   "source": [
    "## Part One"
   ]
  },
  {
   "cell_type": "code",
   "execution_count": 4,
   "id": "827fd029",
   "metadata": {},
   "outputs": [],
   "source": [
    "visible = []"
   ]
  },
  {
   "cell_type": "code",
   "execution_count": 5,
   "id": "3437f8c2",
   "metadata": {},
   "outputs": [],
   "source": [
    "# For every tree, it checks whether it is visible from every direction. \n",
    "# A tree is visible if it is visible from at least one direction.\n",
    "for i in range(length):\n",
    "    for j in range(width):\n",
    "        q = 0\n",
    "        height = forest[i][j]\n",
    "        \n",
    "        k = j\n",
    "        while k > 0:\n",
    "            if forest[i, k-1] < height:\n",
    "                k -= 1\n",
    "            else:\n",
    "                break\n",
    "        if k == 0:\n",
    "            q = 1\n",
    "        \n",
    "        k = j\n",
    "        while k < width-1:\n",
    "            if forest[i, k+1] < height:\n",
    "                k += 1\n",
    "            else:\n",
    "                break\n",
    "        if k == width-1:\n",
    "            q = 1\n",
    "            \n",
    "        k = i\n",
    "        while k > 0:\n",
    "            if forest[k-1, j] < height:\n",
    "                k -= 1\n",
    "            else:\n",
    "                break\n",
    "        if k == 0:\n",
    "            q = 1\n",
    "        \n",
    "        k = i\n",
    "        while k < length-1:\n",
    "            if forest[k+1, j] < height:\n",
    "                k += 1\n",
    "            else:\n",
    "                break\n",
    "        if k == width-1:\n",
    "            q = 1\n",
    "        \n",
    "        if q == 1:\n",
    "            if (i, j) not in visible:\n",
    "                visible.append((i, j))"
   ]
  },
  {
   "cell_type": "code",
   "execution_count": 6,
   "id": "00be5082",
   "metadata": {},
   "outputs": [
    {
     "name": "stdout",
     "output_type": "stream",
     "text": [
      "1805\n"
     ]
    }
   ],
   "source": [
    "print(len(visible))"
   ]
  },
  {
   "cell_type": "markdown",
   "id": "ae143cc2",
   "metadata": {},
   "source": [
    "## Part Two"
   ]
  },
  {
   "cell_type": "code",
   "execution_count": 7,
   "id": "22b9ff98",
   "metadata": {},
   "outputs": [],
   "source": [
    "scores = []"
   ]
  },
  {
   "cell_type": "code",
   "execution_count": 8,
   "id": "35029047",
   "metadata": {},
   "outputs": [],
   "source": [
    "# As before, but counting the trees visible at every direction. Then, these values are multiplied.\n",
    "for i in range(length):\n",
    "    for j in range(width):\n",
    "        q = 0\n",
    "        height = forest[i][j]\n",
    "        a, b, c, d = (0,0,0,0)\n",
    "        k = j\n",
    "        while k > 0:\n",
    "            a +=1\n",
    "            if forest[i, k-1] < height:\n",
    "                k -= 1\n",
    "            else:\n",
    "                break\n",
    "        if k == 0:\n",
    "            q = 1\n",
    "        \n",
    "        k = j\n",
    "        while k < width-1:\n",
    "            b += 1\n",
    "            if forest[i, k+1] < height:\n",
    "                k += 1\n",
    "            else:\n",
    "                break\n",
    "                \n",
    "        if k == width-1:\n",
    "            q = 1\n",
    "            \n",
    "        k = i\n",
    "        while k > 0:\n",
    "            c += 1\n",
    "            if forest[k-1, j] < height:\n",
    "                k -= 1\n",
    "            else:\n",
    "                \n",
    "                break\n",
    "        if k == 0:\n",
    "            q = 1\n",
    "        \n",
    "        k = i\n",
    "        while k < length-1:\n",
    "            d += 1\n",
    "            if forest[k+1, j] < height:\n",
    "                k += 1\n",
    "            else:\n",
    "                break\n",
    "        if k == width-1:\n",
    "            q = 1\n",
    "        \n",
    "        if q == 1:\n",
    "            if (i, j) not in visible:\n",
    "                visible.append((i, j))\n",
    "        \n",
    "        scores.append(a*b*c*d)"
   ]
  },
  {
   "cell_type": "code",
   "execution_count": 9,
   "id": "f629f616",
   "metadata": {},
   "outputs": [
    {
     "name": "stdout",
     "output_type": "stream",
     "text": [
      "444528\n"
     ]
    }
   ],
   "source": [
    "print(max(scores))"
   ]
  }
 ],
 "metadata": {
  "kernelspec": {
   "display_name": "Python 3 (ipykernel)",
   "language": "python",
   "name": "python3"
  },
  "language_info": {
   "codemirror_mode": {
    "name": "ipython",
    "version": 3
   },
   "file_extension": ".py",
   "mimetype": "text/x-python",
   "name": "python",
   "nbconvert_exporter": "python",
   "pygments_lexer": "ipython3",
   "version": "3.10.8"
  }
 },
 "nbformat": 4,
 "nbformat_minor": 5
}
