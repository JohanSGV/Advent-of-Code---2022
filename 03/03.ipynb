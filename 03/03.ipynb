{
 "cells": [
  {
   "cell_type": "markdown",
   "id": "37465a83",
   "metadata": {},
   "source": [
    "# 03"
   ]
  },
  {
   "cell_type": "markdown",
   "id": "7ead11f1",
   "metadata": {},
   "source": [
    "## Part One"
   ]
  },
  {
   "cell_type": "code",
   "execution_count": 93,
   "id": "2f70b09b",
   "metadata": {},
   "outputs": [],
   "source": [
    "import numpy as np"
   ]
  },
  {
   "cell_type": "code",
   "execution_count": 94,
   "id": "1dd60e71",
   "metadata": {},
   "outputs": [],
   "source": [
    "# Returns priority values.\n",
    "def priority(c):\n",
    "    val = ord(c) - 96 # ord('A') = 65, ord('a') = 97\n",
    "    if (val > 0):\n",
    "        return val\n",
    "    else:\n",
    "        return val + 32 + 26"
   ]
  },
  {
   "cell_type": "code",
   "execution_count": 95,
   "id": "45973ef9",
   "metadata": {},
   "outputs": [
    {
     "name": "stdout",
     "output_type": "stream",
     "text": [
      "[8233]\n"
     ]
    }
   ],
   "source": [
    "with open(\"input\", \"r\") as input:\n",
    "    sum = 0\n",
    "    for line in input:\n",
    "        # Getting items in each compartment as arrays and intersecting the sets\n",
    "        line_mid = int((len(line)-1)/2)\n",
    "        comp_A = np.array([priority(c) for c in line[:line_mid]])\n",
    "        comp_B = np.array([priority(c) for c in line[line_mid:-1]])\n",
    "        inters = np.intersect1d(comp_A, comp_B)\n",
    "        sum += inters\n",
    "    print(sum)"
   ]
  },
  {
   "cell_type": "markdown",
   "id": "d6caf2eb",
   "metadata": {},
   "source": [
    "## Part Two"
   ]
  },
  {
   "cell_type": "code",
   "execution_count": 96,
   "id": "25935b73",
   "metadata": {},
   "outputs": [
    {
     "name": "stdout",
     "output_type": "stream",
     "text": [
      "[2821]\n"
     ]
    }
   ],
   "source": [
    "with open(\"input\", \"r\") as input:\n",
    "    sum = 0\n",
    "    lines = input.readlines()\n",
    "    n_groups = int( len(lines) / 3 )\n",
    "    for i in range(n_groups):\n",
    "        # Getting items for each elf in the group and intersecting the sets\n",
    "        elf_A = np.array([priority(c) for c in lines[3 * i    ][:-1]])\n",
    "        elf_B = np.array([priority(c) for c in lines[3 * i + 1][:-1]])\n",
    "        elf_C = np.array([priority(c) for c in lines[3 * i + 2][:-1]])\n",
    "        inters = np.intersect1d(elf_A, elf_B)\n",
    "        inters = np.intersect1d(inters, elf_C)\n",
    "        sum += inters\n",
    "    print(sum)"
   ]
  }
 ],
 "metadata": {
  "kernelspec": {
   "display_name": "Python 3 (ipykernel)",
   "language": "python",
   "name": "python3"
  },
  "language_info": {
   "codemirror_mode": {
    "name": "ipython",
    "version": 3
   },
   "file_extension": ".py",
   "mimetype": "text/x-python",
   "name": "python",
   "nbconvert_exporter": "python",
   "pygments_lexer": "ipython3",
   "version": "3.10.6"
  }
 },
 "nbformat": 4,
 "nbformat_minor": 5
}
